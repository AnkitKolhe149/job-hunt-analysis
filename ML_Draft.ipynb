{
 "cells": [
  {
   "cell_type": "code",
   "execution_count": 2,
   "id": "ed6b7aea-44d6-4ba2-b953-f46ba89ebe51",
   "metadata": {},
   "outputs": [
    {
     "name": "stdout",
     "output_type": "stream",
     "text": [
      "                 Job Title                                    Company  \\\n",
      "0    Data Scientist Intern                      SoulPage IT Solutions   \n",
      "1    Junior Data Scientist                  Ray Business Technologies   \n",
      "2           Data Scientist                                   Accusaga   \n",
      "3           Data Scientist  Great River Financial Services Inc (GRFS)   \n",
      "4  Data Scientist – Intern                  Indian School of Business   \n",
      "\n",
      "    Location       Salary  \n",
      "0  Hyderabad   ₹3L - ₹4L   \n",
      "1  Hyderabad  ₹5L - ₹19L   \n",
      "2      India         ₹8L   \n",
      "3      India   ₹5L - ₹9L   \n",
      "4  Hyderabad  ₹5L - ₹19L   \n",
      "Index(['Job Title', 'Company', 'Location', 'Salary'], dtype='object')\n"
     ]
    }
   ],
   "source": [
    "import pandas as pd\n",
    "\n",
    "# Load the dataset\n",
    "file_path = r\"https://github.com/AnkitKolhe149/job-hunt-analysis/blob/main/JOBLIST.xlsx\"\n",
    "data = pd.read_excel(file_path, header=0)\n",
    "\n",
    "# Inspect the data\n",
    "print(data.head())\n",
    "print(data.columns)\n"
   ]
  },
  {
   "cell_type": "code",
   "execution_count": 10,
   "id": "fb47486b-4754-43c1-8e1e-9e33dc0eb4ff",
   "metadata": {},
   "outputs": [
    {
     "name": "stdout",
     "output_type": "stream",
     "text": [
      "                 Job Title                                    Company  \\\n",
      "0    Data Scientist Intern                      SoulPage IT Solutions   \n",
      "1    Junior Data Scientist                  Ray Business Technologies   \n",
      "2           Data Scientist                                   Accusaga   \n",
      "3           Data Scientist  Great River Financial Services Inc (GRFS)   \n",
      "4  Data Scientist – Intern                  Indian School of Business   \n",
      "\n",
      "    Location       Salary  \n",
      "0  Hyderabad   ₹3L - ₹4L   \n",
      "1  Hyderabad  ₹5L - ₹19L   \n",
      "2      India         ₹8L   \n",
      "3      India   ₹5L - ₹9L   \n",
      "4  Hyderabad  ₹5L - ₹19L   \n"
     ]
    }
   ],
   "source": [
    "# Drop unnecessary columns (e.g., 'Unnamed: 4') if they exist\n",
    "data = data.drop(columns=['Unnamed: 4'], errors='ignore')\n",
    "\n",
    "# Drop rows with missing values in the 'Salary' column\n",
    "data = data.dropna(subset=['Salary'])\n",
    "\n",
    "# Inspect the cleaned data\n",
    "print(data.head())\n"
   ]
  },
  {
   "cell_type": "code",
   "execution_count": 22,
   "id": "e6fb214d-1544-476c-a63a-879b99a85f71",
   "metadata": {},
   "outputs": [
    {
     "name": "stdout",
     "output_type": "stream",
     "text": [
      "0    0.063704\n",
      "1    0.205253\n",
      "2    0.141129\n",
      "3    0.124434\n",
      "4    0.205253\n",
      "Name: Salary, dtype: float64\n"
     ]
    }
   ],
   "source": [
    "def extract_salary(salary_str):\n",
    "    salary_str = str(salary_str)\n",
    "    salary_range = []\n",
    "    \n",
    "    # Split the salary range (e.g., \"₹3L - ₹4L\" or \"₹40T - ₹50T\")\n",
    "    for s in salary_str.split('-'):\n",
    "        s = s.strip().replace('₹', '').replace(',', '')  # Remove currency symbols and commas\n",
    "        \n",
    "        # Convert 'L' to lakh (1L = 100,000) and 'T' to thousand (1T = 1,000)\n",
    "        if 'L' in s:\n",
    "            salary_range.append(float(s.replace('L', '')) * 100000)\n",
    "        elif 'T' in s:\n",
    "            salary_range.append(float(s.replace('T', '')) * 1000)\n",
    "        else:\n",
    "            salary_range.append(float(s))  # Handle plain numeric values if any\n",
    "    \n",
    "    return np.mean(salary_range) if salary_range else None  # Use the average of the range\n",
    "\n",
    "# Apply the updated function to the Salary column\n",
    "data['Salary'] = data['Salary'].apply(extract_salary)\n",
    "\n",
    "\n",
    "# Apply log transformation\n",
    "data['Salary'] = np.log1p(data['Salary'])\n",
    "\n",
    "# Check the transformation\n",
    "print(data['Salary'].head())"
   ]
  },
  {
   "cell_type": "code",
   "execution_count": 25,
   "id": "05ca32a1-6c1e-485f-a008-cfa55f3d7f3d",
   "metadata": {},
   "outputs": [],
   "source": [
    "import numpy as np\n",
    "from sklearn.preprocessing import StandardScaler\n",
    "from sklearn.linear_model import Ridge\n",
    "from sklearn.model_selection import train_test_split\n",
    "\n",
    "# Define features and target variable\n",
    "X = data[['Job Title', 'Company', 'Location']]  # Adjust as per actual features after encoding\n",
    "y = data['Salary']\n",
    "\n",
    "# Feature encoding\n",
    "encoder = OneHotEncoder(sparse_output=False, drop='first')\n",
    "encoded_features = encoder.fit_transform(X[['Job Title', 'Company', 'Location']])\n",
    "\n",
    "# Normalize features\n",
    "scaler = StandardScaler()\n",
    "scaled_features = scaler.fit_transform(encoded_features)\n",
    "\n",
    "# Train-test split\n",
    "X_train, X_test, y_train, y_test = train_test_split(scaled_features, y, test_size=0.2, random_state=42)\n"
   ]
  },
  {
   "cell_type": "code",
   "execution_count": 33,
   "id": "adfdfd2a-86d1-4108-bdfe-07f1bc6b52ae",
   "metadata": {},
   "outputs": [
    {
     "name": "stdout",
     "output_type": "stream",
     "text": [
      "Best alpha: 10000.0\n",
      "Mean Squared Error (MSE): 0.00865922394764067\n",
      "R-squared (R²): -0.009549902731481819\n"
     ]
    }
   ],
   "source": [
    "from sklearn.linear_model import Ridge\n",
    "from sklearn.metrics import mean_squared_error, r2_score\n",
    "from sklearn.model_selection import GridSearchCV\n",
    "\n",
    "# Set up the Ridge Regression model\n",
    "ridge = Ridge()\n",
    "\n",
    "# Hyperparameter grid search for 'alpha'\n",
    "param_grid = {'alpha': np.logspace(-6, 6, 13)}  # Search for a wide range of alpha values\n",
    "grid_search = GridSearchCV(ridge, param_grid, cv=5)\n",
    "grid_search.fit(X_train, y_train)\n",
    "\n",
    "# Best alpha found through grid search\n",
    "best_alpha = grid_search.best_params_['alpha']\n",
    "print(f\"Best alpha: {best_alpha}\")\n",
    "\n",
    "# Train the Ridge model with the best alpha\n",
    "ridge_best = Ridge(alpha=best_alpha)\n",
    "ridge_best.fit(X_train, y_train)\n",
    "\n",
    "# Predict on the test set\n",
    "y_pred = ridge_best.predict(X_test)\n",
    "\n",
    "# Evaluate the model\n",
    "mse = mean_squared_error(y_test, y_pred)\n",
    "r2 = r2_score(y_test, y_pred)\n",
    "print(f\"Mean Squared Error (MSE): {mse}\")\n",
    "print(f\"R-squared (R²): {r2}\")\n"
   ]
  }
 ],
 "metadata": {
  "kernelspec": {
   "display_name": "Python 3 (ipykernel)",
   "language": "python",
   "name": "python3"
  },
  "language_info": {
   "codemirror_mode": {
    "name": "ipython",
    "version": 3
   },
   "file_extension": ".py",
   "mimetype": "text/x-python",
   "name": "python",
   "nbconvert_exporter": "python",
   "pygments_lexer": "ipython3",
   "version": "3.12.5"
  }
 },
 "nbformat": 4,
 "nbformat_minor": 5
}
